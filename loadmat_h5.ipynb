{
 "cells": [
  {
   "cell_type": "markdown",
   "metadata": {},
   "source": [
    "# Example usage"
   ]
  },
  {
   "cell_type": "code",
   "execution_count": 1,
   "metadata": {},
   "outputs": [],
   "source": [
    "from loadmat_h5 import loadmat_h5\n",
    "\n",
    "d = loadmat_h5('test_data.mat')"
   ]
  },
  {
   "cell_type": "code",
   "execution_count": 2,
   "metadata": {},
   "outputs": [
    {
     "data": {
      "text/plain": [
       "dict_keys(['data', 'experiment_class', 'experiment_id'])"
      ]
     },
     "execution_count": 2,
     "metadata": {},
     "output_type": "execute_result"
    }
   ],
   "source": [
    "d.keys()"
   ]
  },
  {
   "cell_type": "code",
   "execution_count": 3,
   "metadata": {},
   "outputs": [
    {
     "data": {
      "text/plain": [
       "dict_keys(['metadata', 'my3tensor', 'my4tensor', 'mycol', 'mymatrix', 'myrow', 'stim_seq', 'timestamp', 'trials'])"
      ]
     },
     "execution_count": 3,
     "metadata": {},
     "output_type": "execute_result"
    }
   ],
   "source": [
    "d['data'].keys()"
   ]
  },
  {
   "cell_type": "code",
   "execution_count": 4,
   "metadata": {},
   "outputs": [
    {
     "data": {
      "text/plain": [
       "{'date': '20201106', 'n_trial': array([[3.]]), 'protocol': 'natural_stim'}"
      ]
     },
     "execution_count": 4,
     "metadata": {},
     "output_type": "execute_result"
    }
   ],
   "source": [
    "d['data']['metadata']"
   ]
  },
  {
   "cell_type": "code",
   "execution_count": 5,
   "metadata": {},
   "outputs": [
    {
     "data": {
      "text/plain": [
       "(1, 3)"
      ]
     },
     "execution_count": 5,
     "metadata": {},
     "output_type": "execute_result"
    }
   ],
   "source": [
    "d['data']['trials'].shape"
   ]
  },
  {
   "cell_type": "code",
   "execution_count": 6,
   "metadata": {},
   "outputs": [
    {
     "data": {
      "text/plain": [
       "(100, 4)"
      ]
     },
     "execution_count": 6,
     "metadata": {},
     "output_type": "execute_result"
    }
   ],
   "source": [
    "d['data']['trials'][0, 0].shape"
   ]
  },
  {
   "cell_type": "code",
   "execution_count": 7,
   "metadata": {},
   "outputs": [
    {
     "data": {
      "text/plain": [
       "(100, 4)"
      ]
     },
     "execution_count": 7,
     "metadata": {},
     "output_type": "execute_result"
    }
   ],
   "source": [
    "d['data']['trials'][0, 1].shape"
   ]
  },
  {
   "cell_type": "code",
   "execution_count": 8,
   "metadata": {},
   "outputs": [
    {
     "data": {
      "text/plain": [
       "(300, 4)"
      ]
     },
     "execution_count": 8,
     "metadata": {},
     "output_type": "execute_result"
    }
   ],
   "source": [
    "d['data']['trials'][0, 2].shape"
   ]
  },
  {
   "cell_type": "code",
   "execution_count": 9,
   "metadata": {},
   "outputs": [
    {
     "data": {
      "text/plain": [
       "(10, 1)"
      ]
     },
     "execution_count": 9,
     "metadata": {},
     "output_type": "execute_result"
    }
   ],
   "source": [
    "d['data']['mycol'].shape"
   ]
  },
  {
   "cell_type": "code",
   "execution_count": 10,
   "metadata": {},
   "outputs": [
    {
     "data": {
      "text/plain": [
       "(1, 10)"
      ]
     },
     "execution_count": 10,
     "metadata": {},
     "output_type": "execute_result"
    }
   ],
   "source": [
    "d['data']['myrow'].shape"
   ]
  },
  {
   "cell_type": "code",
   "execution_count": 11,
   "metadata": {},
   "outputs": [
    {
     "data": {
      "text/plain": [
       "(2, 4)"
      ]
     },
     "execution_count": 11,
     "metadata": {},
     "output_type": "execute_result"
    }
   ],
   "source": [
    "d['data']['mymatrix'].shape"
   ]
  },
  {
   "cell_type": "code",
   "execution_count": 12,
   "metadata": {},
   "outputs": [
    {
     "data": {
      "text/plain": [
       "(3, 5, 7)"
      ]
     },
     "execution_count": 12,
     "metadata": {},
     "output_type": "execute_result"
    }
   ],
   "source": [
    "d['data']['my3tensor'].shape"
   ]
  },
  {
   "cell_type": "code",
   "execution_count": 13,
   "metadata": {},
   "outputs": [
    {
     "data": {
      "text/plain": [
       "(2, 4, 6, 8)"
      ]
     },
     "execution_count": 13,
     "metadata": {},
     "output_type": "execute_result"
    }
   ],
   "source": [
    "d['data']['my4tensor'].shape"
   ]
  },
  {
   "cell_type": "markdown",
   "metadata": {},
   "source": [
    "If you have MATLAB you can open the data file test_data.mat in the MATLAB environment for a direct comparison."
   ]
  },
  {
   "cell_type": "code",
   "execution_count": 14,
   "metadata": {},
   "outputs": [
    {
     "data": {
      "text/plain": [
       "array([[-0.3270794 , -1.50831517,  0.08973574,  0.33819949],\n",
       "       [-0.03138524,  0.30225427,  0.52809528, -0.6693351 ]])"
      ]
     },
     "execution_count": 14,
     "metadata": {},
     "output_type": "execute_result"
    }
   ],
   "source": [
    "d['data']['mymatrix']"
   ]
  },
  {
   "cell_type": "code",
   "execution_count": 15,
   "metadata": {},
   "outputs": [],
   "source": [
    "d_cb = loadmat_h5('allAudNeurons_connMat_noDupSyn.mat')"
   ]
  },
  {
   "cell_type": "code",
   "execution_count": 16,
   "metadata": {},
   "outputs": [
    {
     "data": {
      "text/plain": [
       "{'cxns_noDup': array([[ nan,  42., 133., ...,   0.,   0.,   0.],\n",
       "        [ 55.,  nan,  77., ...,   0.,   0.,   0.],\n",
       "        [ 31.,  44.,  nan, ...,   0.,   0.,   0.],\n",
       "        ...,\n",
       "        [  0.,   0.,   0., ...,  nan,   1.,   6.],\n",
       "        [  0.,   0.,   0., ...,   7.,  nan,  11.],\n",
       "        [  0.,   0.,   0., ...,   3.,   0.,  nan]]),\n",
       " 'lineNames_nosub': array([['A1', 'A2', 'B1', 'B2', 'GF', 'WED-VLP', 'WV-WV', '16374',\n",
       "         '27885', '27936', '36007', '37007', '40303', '41728', '41730',\n",
       "         '43299', '21914', '29146', '35996', '47261', '23281', '27932',\n",
       "         '29136', '35916', '36012', '38918', '40316', '41739', '45858',\n",
       "         'vpoEN', 'vpoIN', 'pMN1', 'pMN2', 'pC2', 'pC1']], dtype=object),\n",
       " 'neuronNames': array([['A1_L1'],\n",
       "        ['A1_L2'],\n",
       "        ['A1_L3'],\n",
       "        ['A1_R1'],\n",
       "        ['A1_R2'],\n",
       "        ['A2_L'],\n",
       "        ['A2_R'],\n",
       "        ['B1-1_L1'],\n",
       "        ['B1-1_L2'],\n",
       "        ['B1-1_L3'],\n",
       "        ['B1-1_L4'],\n",
       "        ['B1-1_L5'],\n",
       "        ['B1-1_L6'],\n",
       "        ['B1-1_R1'],\n",
       "        ['B1-1_R2'],\n",
       "        ['B1-1_R3'],\n",
       "        ['B1-1_R4'],\n",
       "        ['B1-1_R5'],\n",
       "        ['B1-1_R6'],\n",
       "        ['B1-2_L1'],\n",
       "        ['B1-2_L2'],\n",
       "        ['B1-2_L3'],\n",
       "        ['B1-2_L4'],\n",
       "        ['B1-2_L5'],\n",
       "        ['B1-2_L6'],\n",
       "        ['B1-2_L7'],\n",
       "        ['B1-2_L8'],\n",
       "        ['B1-2_L9'],\n",
       "        ['B1-2_R1'],\n",
       "        ['B1-2_R2'],\n",
       "        ['B1-2_R3'],\n",
       "        ['B1-2_R4'],\n",
       "        ['B1-2_R5'],\n",
       "        ['B1-2_R6'],\n",
       "        ['B1-2_R7'],\n",
       "        ['B1-2_R8'],\n",
       "        ['B1-3_L1'],\n",
       "        ['B1-3_L2'],\n",
       "        ['B1-3_L3'],\n",
       "        ['B1-3_L4'],\n",
       "        ['B1-3_L5'],\n",
       "        ['B1-3_R1'],\n",
       "        ['B1-3_R2'],\n",
       "        ['B1-3_R3'],\n",
       "        ['B1-3_R4'],\n",
       "        ['B1-3_R5'],\n",
       "        ['B1-4_L1'],\n",
       "        ['B1-4_L2'],\n",
       "        ['B1-4_L3'],\n",
       "        ['B1-4_L4'],\n",
       "        ['B1-4_L5'],\n",
       "        ['B1-4_L6'],\n",
       "        ['B1-4_L7'],\n",
       "        ['B1-4_L8'],\n",
       "        ['B1-4_L9'],\n",
       "        ['B1-4_R1'],\n",
       "        ['B1-4_R2'],\n",
       "        ['B1-4_R3'],\n",
       "        ['B1-4_R4'],\n",
       "        ['B1-4_R5'],\n",
       "        ['B1-4_R6'],\n",
       "        ['B1-4_R7'],\n",
       "        ['B1-4_R8'],\n",
       "        ['B1-u_L1'],\n",
       "        ['B1-u_L2'],\n",
       "        ['B1-u_L3'],\n",
       "        ['B1-u_L4'],\n",
       "        ['B1-u_L5'],\n",
       "        ['B1-u_L6'],\n",
       "        ['B1-u_L7'],\n",
       "        ['B1-u_L8'],\n",
       "        ['B1-u_L9'],\n",
       "        ['B1-u_L10'],\n",
       "        ['B1-u_L11'],\n",
       "        ['B1-u_L12'],\n",
       "        ['B1-u_L13'],\n",
       "        ['B1-u_L14'],\n",
       "        ['B1-u_L15'],\n",
       "        ['B1-u_L16'],\n",
       "        ['B1-u_L17'],\n",
       "        ['B1-u_L18'],\n",
       "        ['B1-u_L19'],\n",
       "        ['B1-u_L20'],\n",
       "        ['B1-u_L21'],\n",
       "        ['B1-u_L22'],\n",
       "        ['B1-u_L23'],\n",
       "        ['B1-u_L24'],\n",
       "        ['B1-u_L25'],\n",
       "        ['B1-u_L26'],\n",
       "        ['B1-u_L27'],\n",
       "        ['B1-u_L28'],\n",
       "        ['B1-u_L29'],\n",
       "        ['B1-u_L30'],\n",
       "        ['B1-u_L31'],\n",
       "        ['B1-u_L32'],\n",
       "        ['B1-u_R1'],\n",
       "        ['B1-u_R2'],\n",
       "        ['B1-u_R3'],\n",
       "        ['B1-u_R4'],\n",
       "        ['B1-u_R5'],\n",
       "        ['B1-u_R6'],\n",
       "        ['B1-u_R7'],\n",
       "        ['B1-u_R8'],\n",
       "        ['B1-u_R9'],\n",
       "        ['B1-u_R10'],\n",
       "        ['B1-u_R11'],\n",
       "        ['B1-u_R12'],\n",
       "        ['B1-u_R13'],\n",
       "        ['B1-u_R14'],\n",
       "        ['B1-u_R15'],\n",
       "        ['B1-u_R16'],\n",
       "        ['B1-u_R17'],\n",
       "        ['B1-u_R18'],\n",
       "        ['B1-u_R19'],\n",
       "        ['B1-u_R20'],\n",
       "        ['B1-u_R21'],\n",
       "        ['B1-u_R22'],\n",
       "        ['B1-u_R23'],\n",
       "        ['B1-u_R24'],\n",
       "        ['B1-u_R25'],\n",
       "        ['B1-u_R26'],\n",
       "        ['B1-u_R27'],\n",
       "        ['B1-u_R28'],\n",
       "        ['B1-u_R29'],\n",
       "        ['B1-u_R30'],\n",
       "        ['B1-u_R31'],\n",
       "        ['B2_L1'],\n",
       "        ['B2_L2'],\n",
       "        ['B2_L3'],\n",
       "        ['B2_R1'],\n",
       "        ['B2_R2'],\n",
       "        ['B2_R3'],\n",
       "        ['GF_L'],\n",
       "        ['GF_R'],\n",
       "        ['WED-VLP-1_L1'],\n",
       "        ['WED-VLP-1_L2'],\n",
       "        ['WED-VLP-1_L3'],\n",
       "        ['WED-VLP-1_L4'],\n",
       "        ['WED-VLP-1_L5'],\n",
       "        ['WED-VLP-1_L6'],\n",
       "        ['WED-VLP-1_L7'],\n",
       "        ['WED-VLP-1_L8'],\n",
       "        ['WED-VLP-1_R1'],\n",
       "        ['WED-VLP-1_R2'],\n",
       "        ['WED-VLP-1_R3'],\n",
       "        ['WED-VLP-1_R4'],\n",
       "        ['WED-VLP-1_R5'],\n",
       "        ['WED-VLP-1_R6'],\n",
       "        ['WED-VLP-1_R7'],\n",
       "        ['WED-VLP-1_R8'],\n",
       "        ['WED-VLP-2_L1'],\n",
       "        ['WED-VLP-2_L2'],\n",
       "        ['WED-VLP-2_L3'],\n",
       "        ['WED-VLP-2_L4'],\n",
       "        ['WED-VLP-2_L5'],\n",
       "        ['WED-VLP-2_L6'],\n",
       "        ['WED-VLP-2_L7'],\n",
       "        ['WED-VLP-2_R1'],\n",
       "        ['WED-VLP-2_R2'],\n",
       "        ['WED-VLP-2_R3'],\n",
       "        ['WED-VLP-2_R4'],\n",
       "        ['WED-VLP-2_R5'],\n",
       "        ['WV-WV-1_1'],\n",
       "        ['WV-WV-1_2'],\n",
       "        ['WV-WV-1_3'],\n",
       "        ['WV-WV-2_1'],\n",
       "        ['WV-WV-2_2'],\n",
       "        ['WV-WV-2_3'],\n",
       "        ['WV-WV-2_4'],\n",
       "        ['WV-WV-2_5'],\n",
       "        ['WV-WV-2_6'],\n",
       "        ['WV-WV-3_1'],\n",
       "        ['WV-WV-3_2'],\n",
       "        ['WV-WV-3_3'],\n",
       "        ['WV-WV-3_4'],\n",
       "        ['WV-WV-3_5'],\n",
       "        ['WV-WV-3_6'],\n",
       "        ['WV-WV-3_7'],\n",
       "        ['WV-WV-3_8'],\n",
       "        ['WV-WV-3_9'],\n",
       "        ['16374-27885_L1'],\n",
       "        ['16374-27885_L2'],\n",
       "        ['16374-27885_L3'],\n",
       "        ['16374-27885_L4'],\n",
       "        ['16374-27885_L5'],\n",
       "        ['16374-27885_L6'],\n",
       "        ['16374-27885_L7'],\n",
       "        ['16374-27885_Lb1'],\n",
       "        ['16374-27885_Lb2'],\n",
       "        ['16374-27885_R1'],\n",
       "        ['16374-27885_R2'],\n",
       "        ['16374-27885_R3'],\n",
       "        ['16374-27885_R4'],\n",
       "        ['16374-27885_R5'],\n",
       "        ['16374-27885_R6'],\n",
       "        ['16374-27885_R7'],\n",
       "        ['16374-27885_R8'],\n",
       "        ['16374-27885_Rb1'],\n",
       "        ['16374-27885_Rb2'],\n",
       "        ['27885_Lcom1'],\n",
       "        ['27885_Lcom2'],\n",
       "        ['27885_Lcom3'],\n",
       "        ['27885_Rcom1'],\n",
       "        ['27885_Rcom2'],\n",
       "        ['27885_Rcom3'],\n",
       "        ['27936_L1'],\n",
       "        ['27936_L2'],\n",
       "        ['27936_L3'],\n",
       "        ['27936_L4'],\n",
       "        ['27936_L5'],\n",
       "        ['27936_L6'],\n",
       "        ['27936_R1'],\n",
       "        ['27936_R2'],\n",
       "        ['27936_R3'],\n",
       "        ['27936_R4'],\n",
       "        ['27936_R5'],\n",
       "        ['36007_L1'],\n",
       "        ['36007_L2'],\n",
       "        ['36007_L3'],\n",
       "        ['36007_R1'],\n",
       "        ['36007_R2'],\n",
       "        ['36007_R3'],\n",
       "        ['36007_R4'],\n",
       "        ['36007_R5'],\n",
       "        ['36007_R6'],\n",
       "        ['37007_L1'],\n",
       "        ['37007_L2'],\n",
       "        ['37007_L3'],\n",
       "        ['37007_L4'],\n",
       "        ['37007_L5'],\n",
       "        ['37007_L6'],\n",
       "        ['37007_L7'],\n",
       "        ['37007_L8'],\n",
       "        ['37007_L9'],\n",
       "        ['37007_L10'],\n",
       "        ['37007_L11'],\n",
       "        ['37007_L12'],\n",
       "        ['37007_L13'],\n",
       "        ['37007_L14'],\n",
       "        ['37007_L15'],\n",
       "        ['37007_L16'],\n",
       "        ['37007_R1'],\n",
       "        ['37007_R2'],\n",
       "        ['37007_R3'],\n",
       "        ['37007_R4'],\n",
       "        ['37007_R5'],\n",
       "        ['37007_R6'],\n",
       "        ['37007_R7'],\n",
       "        ['37007_R8'],\n",
       "        ['37007_R9'],\n",
       "        ['37007_R10'],\n",
       "        ['40303_L1'],\n",
       "        ['40303_L2'],\n",
       "        ['40303_L3'],\n",
       "        ['40303_L4'],\n",
       "        ['40303_L5'],\n",
       "        ['40303_L6'],\n",
       "        ['40303_L7'],\n",
       "        ['40303_R1'],\n",
       "        ['40303_R3'],\n",
       "        ['40303_R4'],\n",
       "        ['40303_R5'],\n",
       "        ['40303_R6'],\n",
       "        ['40303_R7'],\n",
       "        ['41728-41730_L1'],\n",
       "        ['41728-41730_L2'],\n",
       "        ['41728-41730_L3'],\n",
       "        ['41728-41730_L4'],\n",
       "        ['41728-41730_L5'],\n",
       "        ['41728-41730_L6'],\n",
       "        ['41728-41730_R1'],\n",
       "        ['41728-41730_R2'],\n",
       "        ['41728-41730_R3'],\n",
       "        ['41728-41730_R4'],\n",
       "        ['41728-41730_R5'],\n",
       "        ['41728-41730_R6'],\n",
       "        ['41728-41730_R7'],\n",
       "        ['41730_R1'],\n",
       "        ['41730_R2'],\n",
       "        ['41730_R3'],\n",
       "        ['41730_R4'],\n",
       "        ['43299_L1'],\n",
       "        ['43299_L2'],\n",
       "        ['43299_L3'],\n",
       "        ['43299_L4'],\n",
       "        ['43299_R1'],\n",
       "        ['43299_R2'],\n",
       "        ['43299_R3'],\n",
       "        ['43299_R4'],\n",
       "        ['43299_R5'],\n",
       "        ['43299_R6'],\n",
       "        ['43299_R7'],\n",
       "        ['43299_R8'],\n",
       "        ['43299_R9'],\n",
       "        ['43299_R10'],\n",
       "        ['21914_L1'],\n",
       "        ['21914_L2'],\n",
       "        ['21914_R1'],\n",
       "        ['21914_R2'],\n",
       "        ['29146_L1'],\n",
       "        ['29146_L2'],\n",
       "        ['29146_L3'],\n",
       "        ['29146_L4'],\n",
       "        ['29146_L5'],\n",
       "        ['29146_L6'],\n",
       "        ['29146_R1'],\n",
       "        ['29146_R2'],\n",
       "        ['29146_R3'],\n",
       "        ['29146_R4'],\n",
       "        ['29146_R5'],\n",
       "        ['29146_R6'],\n",
       "        ['29146_R7'],\n",
       "        ['35996_L'],\n",
       "        ['35996_R1'],\n",
       "        ['35996_R2'],\n",
       "        ['35996_R3'],\n",
       "        ['35996_R4'],\n",
       "        ['35996_R5'],\n",
       "        ['35996_R6'],\n",
       "        ['35996_R7'],\n",
       "        ['35996_R8'],\n",
       "        ['47261_L1'],\n",
       "        ['47261_L2'],\n",
       "        ['47261_L3'],\n",
       "        ['47261_L4'],\n",
       "        ['47261_L5'],\n",
       "        ['47261_L6'],\n",
       "        ['47261_L7'],\n",
       "        ['47261_L8'],\n",
       "        ['47261_L9'],\n",
       "        ['47261_L10'],\n",
       "        ['47261_R1'],\n",
       "        ['47261_R2'],\n",
       "        ['47261_R3'],\n",
       "        ['47261_R4'],\n",
       "        ['47261_R5'],\n",
       "        ['47261_R6'],\n",
       "        ['23281_L1'],\n",
       "        ['23281_L2'],\n",
       "        ['23281_L3'],\n",
       "        ['23281_L4'],\n",
       "        ['23281_L5'],\n",
       "        ['23281_L6'],\n",
       "        ['23281_L7'],\n",
       "        ['23281_L8'],\n",
       "        ['23281_L9'],\n",
       "        ['23281_L10'],\n",
       "        ['23281_L11'],\n",
       "        ['23281_R1'],\n",
       "        ['23281_R2'],\n",
       "        ['23281_R3'],\n",
       "        ['23281_R4'],\n",
       "        ['23281_R5'],\n",
       "        ['23281_R6'],\n",
       "        ['23281_R7'],\n",
       "        ['23281_R8'],\n",
       "        ['23281_R9'],\n",
       "        ['23281_R10'],\n",
       "        ['23281_R11'],\n",
       "        ['23281_R12'],\n",
       "        ['23281_R13'],\n",
       "        ['23281_R14'],\n",
       "        ['23281_R15'],\n",
       "        ['27932_L1'],\n",
       "        ['27932_L2'],\n",
       "        ['27932_L3'],\n",
       "        ['27932_L4'],\n",
       "        ['27932_L5'],\n",
       "        ['27932_R1'],\n",
       "        ['27932_R2'],\n",
       "        ['27932_R3'],\n",
       "        ['27932_R4'],\n",
       "        ['29136_L1'],\n",
       "        ['29136_L2'],\n",
       "        ['29136_L3'],\n",
       "        ['29136_L4'],\n",
       "        ['29136_L5'],\n",
       "        ['29136_L6'],\n",
       "        ['29136_R1'],\n",
       "        ['29136_R2'],\n",
       "        ['29136_R3'],\n",
       "        ['29136_R4'],\n",
       "        ['29136_R5'],\n",
       "        ['29136_R6'],\n",
       "        ['29136_R7'],\n",
       "        ['29136_R8'],\n",
       "        ['29136_R9'],\n",
       "        ['35916_L1'],\n",
       "        ['35916_L2'],\n",
       "        ['35916_L3'],\n",
       "        ['35916_L4'],\n",
       "        ['35916_L5'],\n",
       "        ['35916_L6'],\n",
       "        ['35916_R1'],\n",
       "        ['35916_R2'],\n",
       "        ['35916_R5'],\n",
       "        ['35916_R6'],\n",
       "        ['35916_R7'],\n",
       "        ['35916_R8'],\n",
       "        ['35916_R9'],\n",
       "        ['35916_R10'],\n",
       "        ['35916_R11'],\n",
       "        ['35916_R12'],\n",
       "        ['35916_R13'],\n",
       "        ['35916_R14'],\n",
       "        ['35916_R15'],\n",
       "        ['36012_L'],\n",
       "        ['36012_R'],\n",
       "        ['38918_L'],\n",
       "        ['38918_R'],\n",
       "        ['40316_La1'],\n",
       "        ['40316_La2'],\n",
       "        ['40316_La3'],\n",
       "        ['40316_La4'],\n",
       "        ['40316_La5'],\n",
       "        ['40316_La6'],\n",
       "        ['40316_La7'],\n",
       "        ['40316_Lb1'],\n",
       "        ['40316_Lb2'],\n",
       "        ['40316_Ra1'],\n",
       "        ['40316_Ra2'],\n",
       "        ['40316_Ra3'],\n",
       "        ['40316_Ra4'],\n",
       "        ['40316_Ra5'],\n",
       "        ['40316_Ra6'],\n",
       "        ['40316_Ra7'],\n",
       "        ['40316_Rb1'],\n",
       "        ['40316_Rb2'],\n",
       "        ['41739_L'],\n",
       "        ['41739_R'],\n",
       "        ['45858_L'],\n",
       "        ['45858_R'],\n",
       "        ['vpoEN_L1'],\n",
       "        ['vpoEN_L2'],\n",
       "        ['vpoEN_R1'],\n",
       "        ['vpoEN_R2'],\n",
       "        ['vpoIN_L1'],\n",
       "        ['vpoIN_L2'],\n",
       "        ['vpoIN_L3'],\n",
       "        ['vpoIN_L4'],\n",
       "        ['vpoIN_L5'],\n",
       "        ['vpoIN_L6'],\n",
       "        ['vpoIN_L7'],\n",
       "        ['vpoIN_L8'],\n",
       "        ['vpoIN_R1'],\n",
       "        ['vpoIN_R2'],\n",
       "        ['vpoIN_R3'],\n",
       "        ['vpoIN_R4'],\n",
       "        ['vpoIN_R5'],\n",
       "        ['vpoIN_R6'],\n",
       "        ['pMN1_L'],\n",
       "        ['pMN2_L'],\n",
       "        ['pMN2_R'],\n",
       "        ['pC2la_L1'],\n",
       "        ['pC2la_L2'],\n",
       "        ['pC2la_L3'],\n",
       "        ['pC2la_L4'],\n",
       "        ['pC2la_L5'],\n",
       "        ['pC2la_L6'],\n",
       "        ['pC2la_L7'],\n",
       "        ['pC2la_R1'],\n",
       "        ['pC2la_R2'],\n",
       "        ['pC2la_R3'],\n",
       "        ['pC2la_R4'],\n",
       "        ['pC2lb_L1'],\n",
       "        ['pC2lb_L2'],\n",
       "        ['pC2lb_L3'],\n",
       "        ['pC2lb_L4'],\n",
       "        ['pC2lb_R1'],\n",
       "        ['pC2lb_R2'],\n",
       "        ['pC2lb_R3'],\n",
       "        ['pC2lb_R4'],\n",
       "        ['pC2lb_R5'],\n",
       "        ['pC2lc_R1'],\n",
       "        ['pC2lc_R2'],\n",
       "        ['pC2lc_R3'],\n",
       "        ['pC2ld_R'],\n",
       "        ['pC2med_L1'],\n",
       "        ['pC2med_L2'],\n",
       "        ['pC2med_L3'],\n",
       "        ['pC2med_L4'],\n",
       "        ['pC2med_L5'],\n",
       "        ['pC2med_L6'],\n",
       "        ['pC2med_L7'],\n",
       "        ['pC2med_L8'],\n",
       "        ['pC2med_R1'],\n",
       "        ['pC2med_R2'],\n",
       "        ['pC2med_R3'],\n",
       "        ['pC2med_R4'],\n",
       "        ['pC2med_R5'],\n",
       "        ['pC2med_R6'],\n",
       "        ['pC1al_L'],\n",
       "        ['pC1al_R'],\n",
       "        ['pC1as_L'],\n",
       "        ['pC1as_R1'],\n",
       "        ['pC1as_R2']], dtype=object)}"
      ]
     },
     "execution_count": 16,
     "metadata": {},
     "output_type": "execute_result"
    }
   ],
   "source": [
    "d_cb"
   ]
  }
 ],
 "metadata": {
  "kernelspec": {
   "display_name": "Python 3",
   "language": "python",
   "name": "python3"
  },
  "language_info": {
   "codemirror_mode": {
    "name": "ipython",
    "version": 3
   },
   "file_extension": ".py",
   "mimetype": "text/x-python",
   "name": "python",
   "nbconvert_exporter": "python",
   "pygments_lexer": "ipython3",
   "version": "3.6.13"
  }
 },
 "nbformat": 4,
 "nbformat_minor": 4
}
