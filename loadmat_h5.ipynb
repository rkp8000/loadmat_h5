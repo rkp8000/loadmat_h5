{
 "cells": [
  {
   "cell_type": "markdown",
   "metadata": {},
   "source": [
    "A loadmat function for when you get the following error using `scipy.io.loadmat`:\n",
    "```\n",
    "---------------------------------------------------------------------------\n",
    "NotImplementedError                       Traceback (most recent call last)\n",
    "<ipython-input-16-200704b4a286> in <module>\n",
    "      1 from scipy.io import loadmat\n",
    "----> 2 loadmat(FILE)\n",
    "\n",
    "~/miniconda3/envs/sci/lib/python3.6/site-packages/scipy/io/matlab/mio.py in loadmat(file_name, mdict, appendmat, **kwargs)\n",
    "    215     variable_names = kwargs.pop('variable_names', None)\n",
    "    216     with _open_file_context(file_name, appendmat) as f:\n",
    "--> 217         MR, _ = mat_reader_factory(f, **kwargs)\n",
    "    218         matfile_dict = MR.get_variables(variable_names)\n",
    "    219 \n",
    "\n",
    "~/miniconda3/envs/sci/lib/python3.6/site-packages/scipy/io/matlab/mio.py in mat_reader_factory(file_name, appendmat, **kwargs)\n",
    "     76         return MatFile5Reader(byte_stream, **kwargs), file_opened\n",
    "     77     elif mjv == 2:\n",
    "---> 78         raise NotImplementedError('Please use HDF reader for matlab v7.3 files')\n",
    "     79     else:\n",
    "     80         raise TypeError('Did not recognize version %s' % mjv)\n",
    "\n",
    "NotImplementedError: Please use HDF reader for matlab v7.3 files\n",
    "```"
   ]
  },
  {
   "cell_type": "code",
   "execution_count": 1,
   "metadata": {},
   "outputs": [],
   "source": [
    "import h5py\n",
    "import numpy as np\n",
    "\n",
    "Dataset = h5py._hl.dataset.Dataset\n",
    "Group = h5py._hl.group.Group\n",
    "Reference = h5py.h5r.Reference\n",
    "\n",
    "\n",
    "def loadmat_h5(file_name):\n",
    "    '''Loadmat equivalent for -v7.3 or greater .mat files, which break scipy.io.loadmat'''\n",
    "    def deref_s(s, f, verbose=False):  # dereference struct\n",
    "        keys = [k for k in s.keys() if k != '#refs#']\n",
    "\n",
    "        if verbose:\n",
    "            print(f'\\nStruct, keys = {keys}')\n",
    "\n",
    "        d = {}\n",
    "\n",
    "        for k in keys:\n",
    "            v = s[k]\n",
    "\n",
    "            if isinstance(v, Group):  # struct\n",
    "                d[k] = deref_s(v, f, verbose=verbose)\n",
    "\n",
    "            elif isinstance(v, Dataset) and isinstance(np.array(v).flat[0], Reference):  # cell\n",
    "                d[k] = deref_c(v, f, verbose=verbose)\n",
    "\n",
    "            elif isinstance(v, Dataset) and v.dtype == 'uint16':\n",
    "                d[k] = ''.join(np.array(v).view('S2').flatten().astype(str))\n",
    "\n",
    "                if verbose:\n",
    "                    print(f'String, chars = {d[k]}')\n",
    "\n",
    "            elif isinstance(v, Dataset):  # numerical array\n",
    "                d[k] = np.array(v).T\n",
    "\n",
    "                if verbose:\n",
    "                    print(f'Numerical array, shape = {d[k].shape}')\n",
    "\n",
    "        return d\n",
    "\n",
    "\n",
    "    def deref_c(c, f, verbose=False):  # dereference cell\n",
    "        n_v = c.size\n",
    "        shape = c.shape\n",
    "\n",
    "        if verbose:\n",
    "            print(f'\\nCell, shape = {shape}')\n",
    "\n",
    "        a = np.zeros(n_v, dtype='O')\n",
    "\n",
    "        for i in range(n_v):\n",
    "            v = f['#refs#'][np.array(c).flat[i]]\n",
    "\n",
    "            if isinstance(v, Group):  # struct\n",
    "                a[i] = deref_s(v, f, verbose=verbose)\n",
    "\n",
    "            elif isinstance(v, Dataset) and isinstance(np.array(v).flat[0], Reference):  # cell\n",
    "                a[i] = deref_c(v, f, verbose=verbose)\n",
    "\n",
    "            elif isinstance(v, Dataset) and v.dtype == 'uint16':\n",
    "                a[i] = ''.join(np.array(v).view('S2').flatten().astype(str))\n",
    "\n",
    "                if verbose:\n",
    "                    print(f'String, chars = {a[i]}')\n",
    "\n",
    "            elif isinstance(v, Dataset):  # numerical array\n",
    "                a[i] = np.array(v).T\n",
    "\n",
    "                if verbose:\n",
    "                    print(f'Numerical array, shape = {a[i].shape}')\n",
    "\n",
    "        return a.reshape(shape).T\n",
    "    \n",
    "    with h5py.File(file_name, 'r+') as f:\n",
    "        d = deref_s(f, f)\n",
    "        \n",
    "    return d"
   ]
  },
  {
   "cell_type": "markdown",
   "metadata": {},
   "source": [
    "Usage"
   ]
  },
  {
   "cell_type": "code",
   "execution_count": 2,
   "metadata": {},
   "outputs": [],
   "source": [
    "d = loadmat_h5('test_data.mat')"
   ]
  },
  {
   "cell_type": "code",
   "execution_count": 3,
   "metadata": {
    "scrolled": false
   },
   "outputs": [
    {
     "data": {
      "text/plain": [
       "dict_keys(['data', 'experiment_class', 'experiment_id'])"
      ]
     },
     "execution_count": 3,
     "metadata": {},
     "output_type": "execute_result"
    }
   ],
   "source": [
    "d.keys()"
   ]
  },
  {
   "cell_type": "code",
   "execution_count": 4,
   "metadata": {},
   "outputs": [
    {
     "data": {
      "text/plain": [
       "dict_keys(['metadata', 'my3tensor', 'my4tensor', 'mycol', 'mymatrix', 'myrow', 'stim_seq', 'timestamp', 'trials'])"
      ]
     },
     "execution_count": 4,
     "metadata": {},
     "output_type": "execute_result"
    }
   ],
   "source": [
    "d['data'].keys()"
   ]
  },
  {
   "cell_type": "code",
   "execution_count": 5,
   "metadata": {},
   "outputs": [
    {
     "data": {
      "text/plain": [
       "{'date': '20201106', 'n_trial': array([[3.]]), 'protocol': 'natural_stim'}"
      ]
     },
     "execution_count": 5,
     "metadata": {},
     "output_type": "execute_result"
    }
   ],
   "source": [
    "d['data']['metadata']"
   ]
  },
  {
   "cell_type": "code",
   "execution_count": 6,
   "metadata": {},
   "outputs": [
    {
     "data": {
      "text/plain": [
       "(1, 3)"
      ]
     },
     "execution_count": 6,
     "metadata": {},
     "output_type": "execute_result"
    }
   ],
   "source": [
    "d['data']['trials'].shape"
   ]
  },
  {
   "cell_type": "code",
   "execution_count": 7,
   "metadata": {},
   "outputs": [
    {
     "data": {
      "text/plain": [
       "(100, 4)"
      ]
     },
     "execution_count": 7,
     "metadata": {},
     "output_type": "execute_result"
    }
   ],
   "source": [
    "d['data']['trials'][0, 0].shape"
   ]
  },
  {
   "cell_type": "code",
   "execution_count": 8,
   "metadata": {},
   "outputs": [
    {
     "data": {
      "text/plain": [
       "(100, 4)"
      ]
     },
     "execution_count": 8,
     "metadata": {},
     "output_type": "execute_result"
    }
   ],
   "source": [
    "d['data']['trials'][0, 1].shape"
   ]
  },
  {
   "cell_type": "code",
   "execution_count": 9,
   "metadata": {},
   "outputs": [
    {
     "data": {
      "text/plain": [
       "(300, 4)"
      ]
     },
     "execution_count": 9,
     "metadata": {},
     "output_type": "execute_result"
    }
   ],
   "source": [
    "d['data']['trials'][0, 2].shape"
   ]
  },
  {
   "cell_type": "code",
   "execution_count": 10,
   "metadata": {},
   "outputs": [
    {
     "data": {
      "text/plain": [
       "(10, 1)"
      ]
     },
     "execution_count": 10,
     "metadata": {},
     "output_type": "execute_result"
    }
   ],
   "source": [
    "d['data']['mycol'].shape"
   ]
  },
  {
   "cell_type": "code",
   "execution_count": 11,
   "metadata": {},
   "outputs": [
    {
     "data": {
      "text/plain": [
       "(1, 10)"
      ]
     },
     "execution_count": 11,
     "metadata": {},
     "output_type": "execute_result"
    }
   ],
   "source": [
    "d['data']['myrow'].shape"
   ]
  },
  {
   "cell_type": "code",
   "execution_count": 12,
   "metadata": {},
   "outputs": [
    {
     "data": {
      "text/plain": [
       "(2, 4)"
      ]
     },
     "execution_count": 12,
     "metadata": {},
     "output_type": "execute_result"
    }
   ],
   "source": [
    "d['data']['mymatrix'].shape"
   ]
  },
  {
   "cell_type": "code",
   "execution_count": 13,
   "metadata": {},
   "outputs": [
    {
     "data": {
      "text/plain": [
       "(3, 5, 7)"
      ]
     },
     "execution_count": 13,
     "metadata": {},
     "output_type": "execute_result"
    }
   ],
   "source": [
    "d['data']['my3tensor'].shape"
   ]
  },
  {
   "cell_type": "code",
   "execution_count": 14,
   "metadata": {},
   "outputs": [
    {
     "data": {
      "text/plain": [
       "(2, 4, 6, 8)"
      ]
     },
     "execution_count": 14,
     "metadata": {},
     "output_type": "execute_result"
    }
   ],
   "source": [
    "d['data']['my4tensor'].shape"
   ]
  }
 ],
 "metadata": {
  "kernelspec": {
   "display_name": "Python 3",
   "language": "python",
   "name": "python3"
  },
  "language_info": {
   "codemirror_mode": {
    "name": "ipython",
    "version": 3
   },
   "file_extension": ".py",
   "mimetype": "text/x-python",
   "name": "python",
   "nbconvert_exporter": "python",
   "pygments_lexer": "ipython3",
   "version": "3.6.9"
  }
 },
 "nbformat": 4,
 "nbformat_minor": 2
}
